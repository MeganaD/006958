{
 "cells": [
  {
   "cell_type": "code",
   "execution_count": 1,
   "metadata": {},
   "outputs": [
    {
     "name": "stderr",
     "output_type": "stream",
     "text": [
      "Using TensorFlow backend.\n"
     ]
    }
   ],
   "source": [
    "from keras.models import Sequential\n",
    "from keras.layers import Dense\n",
    "import numpy\n",
    "import tensorflow as tf"
   ]
  },
  {
   "cell_type": "code",
   "execution_count": 2,
   "metadata": {},
   "outputs": [],
   "source": [
    "# seed 값 생성\n",
    "seed = 0\n",
    "numpy.random.seed(seed)\n",
    "tf.set_random_seed(seed)"
   ]
  },
  {
   "cell_type": "code",
   "execution_count": 3,
   "metadata": {},
   "outputs": [],
   "source": [
    "# 데이터 로드\n",
    "dataset = numpy.loadtxt(\"../dataset/pima-indians-diabetes.csv\", delimiter=\",\")\n",
    "X = dataset[:,0:8]\n",
    "Y = dataset[:,8]"
   ]
  },
  {
   "cell_type": "code",
   "execution_count": 4,
   "metadata": {},
   "outputs": [
    {
     "name": "stdout",
     "output_type": "stream",
     "text": [
      "Epoch 1/10\n",
      "768/768 [==============================] - 0s 604us/step - loss: 5.1808 - acc: 0.3932\n",
      "Epoch 2/10\n",
      "768/768 [==============================] - 0s 27us/step - loss: 3.9787 - acc: 0.3971\n",
      "Epoch 3/10\n",
      "768/768 [==============================] - 0s 25us/step - loss: 2.9480 - acc: 0.4375\n",
      "Epoch 4/10\n",
      "768/768 [==============================] - 0s 28us/step - loss: 2.0931 - acc: 0.5039\n",
      "Epoch 5/10\n",
      "768/768 [==============================] - 0s 25us/step - loss: 1.5439 - acc: 0.5443\n",
      "Epoch 6/10\n",
      "768/768 [==============================] - 0s 36us/step - loss: 1.2672 - acc: 0.5964\n",
      "Epoch 7/10\n",
      "768/768 [==============================] - 0s 28us/step - loss: 1.1343 - acc: 0.6328\n",
      "Epoch 8/10\n",
      "768/768 [==============================] - 0s 43us/step - loss: 1.0724 - acc: 0.6432\n",
      "Epoch 9/10\n",
      "768/768 [==============================] - 0s 29us/step - loss: 1.0076 - acc: 0.6471\n",
      "Epoch 10/10\n",
      "768/768 [==============================] - 0s 31us/step - loss: 0.9578 - acc: 0.6393\n",
      "768/768 [==============================] - 0s 60us/step\n",
      "\n",
      " Accuracy: 0.6380\n"
     ]
    }
   ],
   "source": [
    "# 모델의 설정\n",
    "model = Sequential()\n",
    "model.add(Dense(12, input_dim=8, activation='relu'))\n",
    "model.add(Dense(8, activation='relu'))\n",
    "model.add(Dense(1, activation='sigmoid'))\n",
    "\n",
    "# 모델 컴파일\n",
    "model.compile(loss='binary_crossentropy',\n",
    "             optimizer='adam',\n",
    "             metrics=['accuracy'])\n",
    "\n",
    "# 모델 실행\n",
    "model.fit(X, Y, epochs=10, batch_size=100)\n",
    "\n",
    "# 결과 출력\n",
    "print(\"\\n Accuracy: %.4f\" % (model.evaluate(X, Y)[1]))"
   ]
  },
  {
   "cell_type": "code",
   "execution_count": null,
   "metadata": {},
   "outputs": [],
   "source": []
  }
 ],
 "metadata": {
  "kernelspec": {
   "display_name": "Python 3",
   "language": "python",
   "name": "python3"
  },
  "language_info": {
   "codemirror_mode": {
    "name": "ipython",
    "version": 3
   },
   "file_extension": ".py",
   "mimetype": "text/x-python",
   "name": "python",
   "nbconvert_exporter": "python",
   "pygments_lexer": "ipython3",
   "version": "3.5.4"
  }
 },
 "nbformat": 4,
 "nbformat_minor": 2
}
