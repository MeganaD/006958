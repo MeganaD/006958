{
 "cells": [
  {
   "cell_type": "code",
   "execution_count": 1,
   "metadata": {},
   "outputs": [],
   "source": [
    "#-*- coding: utf-8 -*-\n",
    "import tensorflow as tf\n",
    "import numpy as np\n",
    "\n",
    "# 실행할 때마다 같은 결과를 출력하기 위한 seed 값 설정\n",
    "seed = 0\n",
    "np.random.seed(seed)\n",
    "tf.set_random_seed(seed)"
   ]
  },
  {
   "cell_type": "code",
   "execution_count": 2,
   "metadata": {},
   "outputs": [],
   "source": [
    "# x,y의 데이터 값\n",
    "x_data = np.array([[2, 3],[4, 3],[6, 4],[8, 6],[10, 7],[12, 8],[14, 9]])\n",
    "y_data = np.array([0, 0, 0, 1, 1, 1, 1]).reshape(7, 1)"
   ]
  },
  {
   "cell_type": "code",
   "execution_count": 3,
   "metadata": {},
   "outputs": [
    {
     "name": "stdout",
     "output_type": "stream",
     "text": [
      "Tensor(\"Placeholder:0\", shape=(?, 2), dtype=float64)\n",
      "Tensor(\"Placeholder_1:0\", shape=(?, 1), dtype=float64)\n"
     ]
    }
   ],
   "source": [
    "# 입력 값을 플래이스 홀더에 저장\n",
    "X = tf.placeholder(tf.float64, shape=[None, 2])\n",
    "Y = tf.placeholder(tf.float64, shape=[None, 1])\n",
    "\n",
    "print(X)\n",
    "print(Y)"
   ]
  },
  {
   "cell_type": "code",
   "execution_count": 4,
   "metadata": {},
   "outputs": [
    {
     "name": "stdout",
     "output_type": "stream",
     "text": [
      "<tf.Variable 'Variable:0' shape=(2, 1) dtype=float64_ref>\n",
      "<tf.Variable 'Variable_1:0' shape=(1,) dtype=float64_ref>\n"
     ]
    }
   ],
   "source": [
    "# 기울기 a와 bias b의 값을 임의로 정함.\n",
    "a = tf.Variable(tf.random_uniform([2,1], dtype=tf.float64)) # [2,1] 의미: 들어오는 값은 2개, 나가는 값은 1개\n",
    "b = tf.Variable(tf.random_uniform([1], dtype=tf.float64))\n",
    "print(a)\n",
    "print(b)"
   ]
  },
  {
   "cell_type": "code",
   "execution_count": 5,
   "metadata": {},
   "outputs": [
    {
     "name": "stdout",
     "output_type": "stream",
     "text": [
      "Tensor(\"Sigmoid:0\", shape=(?, 1), dtype=float64)\n"
     ]
    }
   ],
   "source": [
    "# y 시그모이드 함수의 방정식을 세움\n",
    "y = tf.sigmoid(tf.matmul(X, a) + b)\n",
    "print(y)"
   ]
  },
  {
   "cell_type": "code",
   "execution_count": 6,
   "metadata": {},
   "outputs": [
    {
     "name": "stdout",
     "output_type": "stream",
     "text": [
      "Tensor(\"Neg:0\", shape=(), dtype=float64)\n"
     ]
    }
   ],
   "source": [
    "# 오차를 구하는 함수\n",
    "loss = -tf.reduce_mean(Y * tf.log(y) + (1 - Y) * tf.log(1 - y))\n",
    "print(loss)"
   ]
  },
  {
   "cell_type": "code",
   "execution_count": 7,
   "metadata": {},
   "outputs": [
    {
     "name": "stdout",
     "output_type": "stream",
     "text": [
      "name: \"GradientDescent\"\n",
      "op: \"NoOp\"\n",
      "input: \"^GradientDescent/update_Variable/ApplyGradientDescent\"\n",
      "input: \"^GradientDescent/update_Variable_1/ApplyGradientDescent\"\n",
      "\n"
     ]
    }
   ],
   "source": [
    "# 학습률 값\n",
    "learning_rate=0.1\n",
    "\n",
    "# 오차를 최소로 하는 값 찾기\n",
    "gradient_decent = tf.train.GradientDescentOptimizer(learning_rate).minimize(loss)\n",
    "print(gradient_decent)"
   ]
  },
  {
   "cell_type": "code",
   "execution_count": 8,
   "metadata": {},
   "outputs": [
    {
     "name": "stdout",
     "output_type": "stream",
     "text": [
      "step=300, a1=0.8426, a2=-0.5997, b=-2.3907, loss=0.2694\n",
      "step=600, a1=0.8348, a2=-0.3166, b=-3.8630, loss=0.1932\n",
      "step=900, a1=0.7423, a2=0.0153, b=-4.9311, loss=0.1510\n",
      "step=1200, a1=0.6372, a2=0.3245, b=-5.7765, loss=0.1235\n",
      "step=1500, a1=0.5373, a2=0.5996, b=-6.4775, loss=0.1042\n",
      "step=1800, a1=0.4471, a2=0.8421, b=-7.0768, loss=0.0900\n",
      "step=2100, a1=0.3670, a2=1.0561, b=-7.6003, loss=0.0791\n",
      "step=2400, a1=0.2962, a2=1.2458, b=-8.0652, loss=0.0705\n",
      "step=2700, a1=0.2336, a2=1.4152, b=-8.4834, loss=0.0636\n",
      "step=3000, a1=0.1779, a2=1.5675, b=-8.8635, loss=0.0579\n",
      "\n",
      "공부 시간: 7, 개인 과외 수: 6\n",
      "합격 가능성:  85.66 %\n",
      "\n",
      "공부 시간: 6, 개인 과외 수: 7\n",
      "합격 가능성:  96.00 %\n"
     ]
    }
   ],
   "source": [
    "predicted = tf.cast(y > 0.5, dtype=tf.float64)\n",
    "accuracy = tf.reduce_mean(tf.cast(tf.equal(predicted, Y), dtype=tf.float64))\n",
    "\n",
    "# 학습\n",
    "with tf.Session() as sess:\n",
    "    sess.run(tf.global_variables_initializer())\n",
    "\n",
    "    for i in range(3001):\n",
    "        a_, b_, loss_, _ = sess.run([a, b, loss, gradient_decent], feed_dict={X: x_data, Y: y_data})\n",
    "        if (i + 1) % 300 == 0:\n",
    "            print(\"step=%d, a1=%.4f, a2=%.4f, b=%.4f, loss=%.4f\" % (i + 1, a_[0], a_[1], b_, loss_))\n",
    "    \n",
    "    print()\n",
    "    # 어떻게 활용하는가\n",
    "    new_x = np.array([7, 6.]).reshape(1, 2)  #[7, 6]은 각각 공부 시간과 과외 수업수.\n",
    "    new_y = sess.run(y, feed_dict={X: new_x})\n",
    "\n",
    "    print(\"공부 시간: %d, 개인 과외 수: %d\" % (new_x[:,0], new_x[:,1]))\n",
    "    print(\"합격 가능성: %6.2f %%\" % (new_y*100))\n",
    "    \n",
    "    print()\n",
    "    new_x = np.array([6, 7.]).reshape(1, 2)\n",
    "    new_y = sess.run(y, feed_dict={X: new_x})\n",
    "    print(\"공부 시간: %d, 개인 과외 수: %d\" % (new_x[:,0], new_x[:,1]))\n",
    "    print(\"합격 가능성: %6.2f %%\" % (new_y*100))"
   ]
  }
 ],
 "metadata": {
  "kernelspec": {
   "display_name": "Python 3",
   "language": "python",
   "name": "python3"
  },
  "language_info": {
   "codemirror_mode": {
    "name": "ipython",
    "version": 3
   },
   "file_extension": ".py",
   "mimetype": "text/x-python",
   "name": "python",
   "nbconvert_exporter": "python",
   "pygments_lexer": "ipython3",
   "version": "3.5.4"
  }
 },
 "nbformat": 4,
 "nbformat_minor": 2
}
